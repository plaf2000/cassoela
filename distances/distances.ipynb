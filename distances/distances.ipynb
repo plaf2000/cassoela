{
 "cells": [
  {
   "cell_type": "code",
   "execution_count": 47,
   "metadata": {},
   "outputs": [],
   "source": [
    "import gpxpy\n",
    "import gpxpy.gpx\n",
    "import geopy.distance as distance\n",
    "import math\n",
    "import statistics"
   ]
  },
  {
   "cell_type": "code",
   "execution_count": 2,
   "metadata": {},
   "outputs": [],
   "source": [
    "gpx_file = open(\"gpx/strecke01.gpx\")\n",
    "gpx = gpxpy.parse(gpx_file)\n"
   ]
  },
  {
   "cell_type": "code",
   "execution_count": 49,
   "metadata": {},
   "outputs": [
    {
     "name": "stdout",
     "output_type": "stream",
     "text": [
      "Strecke 1 3.60 km 1.20%\n",
      "Strecke 2 13.76 km 0.00%\n",
      "Strecke 3 5.84 km 7.26%\n",
      "Strecke 4 5.88 km -1.68%\n",
      "[trkpt:47.355190254282206,8.462160228285939@530.0@None] [trkpt:47.355200147256255,8.462160418275744@530.7999877929688@None] 1.0999724221246248\n",
      "[trkpt:47.37989047775045,8.469360672403127@501.0999755859375@None] [trkpt:47.37987978057936,8.469349871389568@501.8999938964844@None] 1.4421122544855\n",
      "Strecke 5 14.02 km -2.18%\n",
      "Strecke 6 10.38 km 0.00%\n",
      "Strecke 7 4.41 km -0.50%\n",
      "Strecke 8 6.34 km 2.00%\n",
      "Strecke 9 11.16 km 0.00%\n",
      "Strecke 10 8.49 km -1.19%\n",
      "Strecke 11 12.82 km 0.00%\n",
      "Strecke 12 6.17 km -1.00%\n",
      "Strecke 13 4.79 km 0.00%\n",
      "[trkpt:47.39830036228523,8.552740157116205@498.3999938964844@None] [trkpt:47.398279678076506,8.552739724516869@499.59999084472656@None] 2.299873371828313\n",
      "Strecke 14 5.54 km -2.86%\n"
     ]
    }
   ],
   "source": [
    "tol = 1\n",
    "for i in range(14):\n",
    "    gpx_file = open(f\"gpx/strecke{i+1:02d}.gpx\")\n",
    "    gpx = gpxpy.parse(gpx_file)\n",
    "    lengths = []\n",
    "    grads = []\n",
    "\n",
    "    for track in gpx.tracks:\n",
    "        for segment in track.segments:\n",
    "            pts = list(segment.points)\n",
    "            for p0, p1 in zip(pts[:-1], pts[1:]):\n",
    "                dist_2d = distance.distance((p0.latitude, p0.longitude), (p1.latitude, p1.longitude)).m\n",
    "                dist_3d = math.sqrt(((p1.elevation - p0.elevation))**2 + dist_2d**2)\n",
    "                if dist_2d > tol:\n",
    "                    grads.append((p1.elevation - p0.elevation) / dist_2d)\n",
    "                    if grads[-1] > .50:\n",
    "                        print(p0, p1, dist_2d)\n",
    "                    lengths.append(dist_3d)\n",
    "\n",
    "    print(f\"Strecke\", i+1, f\"{sum(lengths)/1000 - .1:.2f} km\", f\"{statistics.median(grads):.02%}\")\n"
   ]
  },
  {
   "cell_type": "markdown",
   "metadata": {},
   "source": [
    "We now correct the distances using an approximation of the [GAP](https://medium.com/strava-engineering/an-improved-gap-model-8b07ae8886c3) Model."
   ]
  },
  {
   "cell_type": "code",
   "execution_count": null,
   "metadata": {},
   "outputs": [],
   "source": []
  }
 ],
 "metadata": {
  "kernelspec": {
   "display_name": "cassoela",
   "language": "python",
   "name": "python3"
  },
  "language_info": {
   "codemirror_mode": {
    "name": "ipython",
    "version": 3
   },
   "file_extension": ".py",
   "mimetype": "text/x-python",
   "name": "python",
   "nbconvert_exporter": "python",
   "pygments_lexer": "ipython3",
   "version": "3.10.12"
  }
 },
 "nbformat": 4,
 "nbformat_minor": 2
}

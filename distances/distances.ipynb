{
 "cells": [
  {
   "cell_type": "code",
   "execution_count": 16,
   "metadata": {},
   "outputs": [],
   "source": [
    "import gpxpy\n",
    "import gpxpy.gpx\n",
    "import geopy.distance as distance\n",
    "import math"
   ]
  },
  {
   "cell_type": "code",
   "execution_count": 2,
   "metadata": {},
   "outputs": [],
   "source": [
    "gpx_file = open(\"gpx/strecke01.gpx\")\n",
    "gpx = gpxpy.parse(gpx_file)\n"
   ]
  },
  {
   "cell_type": "code",
   "execution_count": 39,
   "metadata": {},
   "outputs": [
    {
     "name": "stdout",
     "output_type": "stream",
     "text": [
      "Strecke 1 3.60\n",
      "Strecke 2 13.77\n",
      "Strecke 3 5.84\n",
      "Strecke 4 5.89\n",
      "Strecke 5 14.07\n",
      "Strecke 6 10.38\n",
      "Strecke 7 4.41\n",
      "Strecke 8 6.34\n",
      "Strecke 9 11.18\n",
      "Strecke 10 8.51\n",
      "Strecke 11 12.83\n",
      "Strecke 12 6.18\n",
      "Strecke 13 4.81\n",
      "Strecke 14 5.55\n"
     ]
    }
   ],
   "source": [
    "\n",
    "for i in range(14):\n",
    "    gpx_file = open(f\"gpx/strecke{i+1:02d}.gpx\")\n",
    "    gpx = gpxpy.parse(gpx_file)\n",
    "    lengths = []\n",
    "\n",
    "    for track in gpx.tracks:\n",
    "        for segment in track.segments:\n",
    "            pts = list(segment.points)\n",
    "            for p0, p1 in zip(pts[:-1], pts[1:]):\n",
    "                dist_2d = distance.distance((p0.latitude, p0.longitude), (p1.latitude, p1.longitude)).m\n",
    "                dist_3d = math.sqrt(((p1.elevation - p0.elevation))**2 + dist_2d**2)\n",
    "                lengths.append(dist_3d)\n",
    "\n",
    "    print(f\"Strecke\", i+1, f\"{sum(lengths)/1000 - .1:.2f}\")\n"
   ]
  }
 ],
 "metadata": {
  "kernelspec": {
   "display_name": "cassoela",
   "language": "python",
   "name": "python3"
  },
  "language_info": {
   "codemirror_mode": {
    "name": "ipython",
    "version": 3
   },
   "file_extension": ".py",
   "mimetype": "text/x-python",
   "name": "python",
   "nbconvert_exporter": "python",
   "pygments_lexer": "ipython3",
   "version": "3.10.12"
  }
 },
 "nbformat": 4,
 "nbformat_minor": 2
}
